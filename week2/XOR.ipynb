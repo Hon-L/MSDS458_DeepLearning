{
  "nbformat": 4,
  "nbformat_minor": 0,
  "metadata": {
    "colab": {
      "name": "XOR.ipynb",
      "provenance": []
    },
    "kernelspec": {
      "name": "python3",
      "display_name": "Python 3"
    }
  },
  "cells": [
    {
      "cell_type": "code",
      "metadata": {
        "id": "ld728vzdrUpV"
      },
      "source": [
        "import numpy as np\n",
        "from keras.models import Sequential\n",
        "from keras.layers.core import Dense, Activation\n",
        "from keras.optimizers import SGD"
      ],
      "execution_count": 128,
      "outputs": []
    },
    {
      "cell_type": "code",
      "metadata": {
        "id": "57L86ToPrtCX"
      },
      "source": [
        "x = np.array([[0,0], [0,1], [1,0], [1,1]])\n",
        "y = np.array([[0], [1], [1],[0]])"
      ],
      "execution_count": 137,
      "outputs": []
    },
    {
      "cell_type": "code",
      "metadata": {
        "id": "5uDjU6ld1UIr"
      },
      "source": [
        "np.random.seed(1)\n",
        "model = Sequential()\n",
        "model.add(Dense(8, input_dim=2, activation=\"tanh\"))\n",
        "#model.add(Dense(8, input_dim=2, activation=\"relu\"))\n",
        "model.add(Dense(1,activation=\"sigmoid\"))"
      ],
      "execution_count": 159,
      "outputs": []
    },
    {
      "cell_type": "code",
      "metadata": {
        "id": "xWydOR711efg"
      },
      "source": [
        "sgd = SGD(lr=.1)\n",
        "model.compile(loss=\"binary_crossentropy\",optimizer=sgd, metrics = [\"accuracy\"])"
      ],
      "execution_count": 162,
      "outputs": []
    },
    {
      "cell_type": "code",
      "metadata": {
        "id": "qxSkOGpl12Ye",
        "outputId": "9463efea-ea70-4a9a-c15a-1adaf6aa6576",
        "colab": {
          "base_uri": "https://localhost:8080/",
          "height": 122
        }
      },
      "source": [
        "\n",
        "model.fit(x, y, epochs=1500, verbose=0)\n",
        "print(model.predict_proba(x))"
      ],
      "execution_count": 163,
      "outputs": [
        {
          "output_type": "stream",
          "text": [
            "WARNING:tensorflow:8 out of the last 11 calls to <function Model.make_predict_function.<locals>.predict_function at 0x7fa77ad92598> triggered tf.function retracing. Tracing is expensive and the excessive number of tracings could be due to (1) creating @tf.function repeatedly in a loop, (2) passing tensors with different shapes, (3) passing Python objects instead of tensors. For (1), please define your @tf.function outside of the loop. For (2), @tf.function has experimental_relax_shapes=True option that relaxes argument shapes that can avoid unnecessary retracing. For (3), please refer to https://www.tensorflow.org/tutorials/customization/performance#python_or_tensor_args and https://www.tensorflow.org/api_docs/python/tf/function for  more details.\n",
            "[[0.00309604]\n",
            " [0.99407816]\n",
            " [0.99323845]\n",
            " [0.00788724]]\n"
          ],
          "name": "stdout"
        }
      ]
    }
  ]
}